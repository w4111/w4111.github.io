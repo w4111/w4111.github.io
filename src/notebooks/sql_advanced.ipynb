{
 "cells": [
  {
   "cell_type": "code",
   "execution_count": 14,
   "id": "dcf1579f",
   "metadata": {},
   "outputs": [
    {
     "name": "stdout",
     "output_type": "stream",
     "text": [
      "The sql extension is already loaded. To reload it, use:\n",
      "  %reload_ext sql\n"
     ]
    }
   ],
   "source": [
    "%load_ext sql\n",
    "%config SqlMagic.autocommit=False\n",
    "%config SqlMagic.style = '_DEPRECATED_DEFAULT'\n",
    "%sql postgresql://localhost/w4111"
   ]
  },
  {
   "cell_type": "code",
   "execution_count": 15,
   "id": "bb56190f",
   "metadata": {},
   "outputs": [],
   "source": [
    "from IPython.display import HTML\n",
    "import pandas as pd\n",
    "pd.set_option('max_colwidth', 0)"
   ]
  },
  {
   "cell_type": "markdown",
   "id": "63900f54",
   "metadata": {},
   "source": [
    "# Basic SQL"
   ]
  },
  {
   "cell_type": "code",
   "execution_count": 18,
   "id": "52ab11f5",
   "metadata": {},
   "outputs": [
    {
     "ename": "SyntaxError",
     "evalue": "invalid syntax (110485560.py, line 3)",
     "output_type": "error",
     "traceback": [
      "\u001b[0;36m  Cell \u001b[0;32mIn[18], line 3\u001b[0;36m\u001b[0m\n\u001b[0;31m    DROP TABLE IF EXISTS sailors cascade;\u001b[0m\n\u001b[0m         ^\u001b[0m\n\u001b[0;31mSyntaxError\u001b[0m\u001b[0;31m:\u001b[0m invalid syntax\n"
     ]
    }
   ],
   "source": [
    "%sql autocommit off\n",
    "%%sql\n",
    "DROP TABLE IF EXISTS sailors cascade;\n",
    "DROP TABLE IF EXISTS boats cascade;\n",
    "DROP TABLE IF EXISTS reserves;\n",
    "\n",
    "CREATE TABLE sailors(\n",
    "    sid serial primary key,\n",
    "    name text,\n",
    "    rating int,\n",
    "    age int    \n",
    ");\n",
    "create table boats(\n",
    "    bid serial primary key,\n",
    "    name text,\n",
    "    color text\n",
    ");\n",
    "create table reserves(\n",
    "    sid int references sailors,\n",
    "    bid int references boats,\n",
    "    day text\n",
    ");\n",
    "\n",
    "INSERT INTO sailors VALUES \n",
    "(1, 'Eugene', 7, 22),\n",
    "(2, 'Luis', 2, 39),\n",
    "(3, 'Ken', 8, 27),\n",
    "(4, 'Don', 10, 100);\n",
    "INSERT INTO boats VALUES\n",
    "(101, 'Legacy', 'red'),\n",
    "(102, 'Melon', 'blue'),\n",
    "(103, 'Mars', 'red');\n",
    "INSERT INTO reserves VALUES\n",
    "(1, 102, '9/12/2016'),\n",
    "(1, 101, '9/12/2016'),\n",
    "(1, 103, '9/12/2016'),\n",
    "(2, 102, '9/13/2016'),\n",
    "(2, 103, '9/14/2016');\n",
    "COMMIT"
   ]
  },
  {
   "cell_type": "code",
   "execution_count": 17,
   "id": "b55613d5",
   "metadata": {},
   "outputs": [
    {
     "name": "stdout",
     "output_type": "stream",
     "text": [
      " * postgresql://localhost/w4111\n",
      "(psycopg2.errors.UndefinedTable) relation \"sailors\" does not exist\n",
      "LINE 2: from sailors as s left join (reserves as r  join boats as b ...\n",
      "             ^\n",
      "\n",
      "[SQL: select *\n",
      "from sailors as s left join (reserves as r  join boats as b on b.bid = r.bid) on s.sid = r.sid]\n",
      "(Background on this error at: https://sqlalche.me/e/20/f405)\n"
     ]
    }
   ],
   "source": [
    "%%sql\n",
    "select *\n",
    "from sailors as s left join (reserves as r  join boats as b on b.bid = r.bid) on s.sid = r.sid \n"
   ]
  },
  {
   "cell_type": "code",
   "execution_count": null,
   "id": "107614d7",
   "metadata": {},
   "outputs": [],
   "source": [
    "%sql select * from sailors where null = null"
   ]
  },
  {
   "cell_type": "code",
   "execution_count": null,
   "id": "e575373e",
   "metadata": {},
   "outputs": [],
   "source": [
    "%%sql\n",
    "DROP TABLE IF EXISTS T;\n",
    "CREATE TABLE T(a int);\n",
    "INSERT INTO T VALUES (1), (2), (null)"
   ]
  },
  {
   "cell_type": "code",
   "execution_count": null,
   "id": "7967671a",
   "metadata": {},
   "outputs": [],
   "source": [
    "%sql SELECT count(*) FROM T; "
   ]
  },
  {
   "cell_type": "markdown",
   "id": "30d26eb4",
   "metadata": {},
   "source": [
    "# UDFs"
   ]
  },
  {
   "cell_type": "code",
   "execution_count": null,
   "id": "535955bb",
   "metadata": {},
   "outputs": [],
   "source": [
    "%%sql\n",
    "DROP TABLE IF EXISTS sailors cascade;\n",
    "\n",
    "CREATE TABLE sailors(\n",
    "    sid serial primary key,\n",
    "    name text,\n",
    "    rating int,\n",
    "    age int    \n",
    ");\n",
    "\n",
    "INSERT INTO sailors VALUES \n",
    "(1, 'Eugene', 7, 22),\n",
    "(2, 'Luis', 2, 39),\n",
    "(3, 'Ken', 8, 27);\n",
    "\n",
    "DROP TABLE IF EXISTS youngsailors cascade;\n",
    "CREATE TABLE youngsailors(\n",
    "    sid serial primary key,\n",
    "    name text,\n",
    "    rating int,\n",
    "    age int    \n",
    ");\n",
    "\n",
    "\n",
    "DROP TABLE IF EXISTS log;\n",
    "CREATE TABLE log(\n",
    "  sid int NOT NULL REFERENCES Sailors,\n",
    "  t timestamp NOT NULL,\n",
    "  oldAge int NOT NULL,\n",
    "  newAge int NOT NULL\n",
    ");\n",
    "\n",
    "\n",
    "drop table if exists blah;\n",
    "create table blah(qty int);"
   ]
  },
  {
   "cell_type": "code",
   "execution_count": null,
   "id": "a6d0dee9",
   "metadata": {},
   "outputs": [],
   "source": [
    "%%sql\n",
    "CREATE EXTENSION IF NOT EXISTS plpgsql;\n",
    "CREATE EXTENSION IF NOT EXISTS plpythonu;"
   ]
  },
  {
   "cell_type": "code",
   "execution_count": null,
   "id": "7ee55c41",
   "metadata": {},
   "outputs": [],
   "source": [
    "%%sql\n",
    "DROP FUNCTION IF EXISTS searchit(word text);\n",
    "CREATE FUNCTION searchit(word text) RETURNS text AS $$\n",
    "import requests\n",
    "r = requests.get(\"https://en.m.wikipedia.org/w/index.php?title=Special:Search&search=%s\" % word)\n",
    "return r.content.decode('unicode-escape')\n",
    "$$ LANGUAGE plpython2u;"
   ]
  },
  {
   "cell_type": "code",
   "execution_count": null,
   "id": "e1f5a559",
   "metadata": {},
   "outputs": [],
   "source": [
    "\n",
    "%%sql\n",
    "DROP TABLE IF EXISTS unis;\n",
    "CREATE TABLE unis (name text);\n",
    "INSERT INTO unis VALUES ('columbia university'), ('uc berkeley'), ('university of wisconsin madison'), ('nyu');"
   ]
  },
  {
   "cell_type": "code",
   "execution_count": null,
   "id": "8b1ae688",
   "metadata": {},
   "outputs": [],
   "source": [
    "rows = %sql SELECT searchit(name) FROM unis;\n"
   ]
  },
  {
   "cell_type": "code",
   "execution_count": null,
   "id": "5cdb5658",
   "metadata": {},
   "outputs": [],
   "source": [
    "display(HTML(rows[1][0]))\n"
   ]
  },
  {
   "cell_type": "code",
   "execution_count": null,
   "id": "844ecd41",
   "metadata": {},
   "outputs": [],
   "source": []
  }
 ],
 "metadata": {
  "kernelspec": {
   "display_name": "Python 3 (ipykernel)",
   "language": "python",
   "name": "python3"
  },
  "language_info": {
   "codemirror_mode": {
    "name": "ipython",
    "version": 3
   },
   "file_extension": ".py",
   "mimetype": "text/x-python",
   "name": "python",
   "nbconvert_exporter": "python",
   "pygments_lexer": "ipython3",
   "version": "3.9.6"
  }
 },
 "nbformat": 4,
 "nbformat_minor": 5
}
